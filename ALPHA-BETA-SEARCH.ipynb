{
 "cells": [
  {
   "cell_type": "code",
   "execution_count": 4,
   "metadata": {},
   "outputs": [
    {
     "name": "stdout",
     "output_type": "stream",
     "text": [
      "Enter a state2\n",
      "[700, 500]\n",
      "Output state with maximum value is : 5\n"
     ]
    }
   ],
   "source": [
    "ACTIONS={0:[1,2],\n",
    "         1:[3,4],\n",
    "         2:[5,6],\n",
    "         3:[7,8],\n",
    "         4:[9,10],\n",
    "         5:[11,12],\n",
    "         6:[13,14],\n",
    "         7:[],\n",
    "         8:[],\n",
    "         9:[],\n",
    "         10:[],\n",
    "         11:[],\n",
    "         12:[],\n",
    "         13:[],\n",
    "         14:[]}\n",
    "\n",
    "UTILITY={7:100,8:200,9:300,10:400,11:800,12:700,13:600,14:500}\n",
    "\n",
    "def ALPHA_BETA_SEARCH(state):\n",
    "    l=[]\n",
    "    for a in ACTIONS[state]:\n",
    "        l.append(MIN_VALUE(a,-10000,10000))\n",
    "    print(l)\n",
    "    val=ACTIONS[state][l.index(max(l))]\n",
    "    return(val)\n",
    "\n",
    "def TERMINAL_TEST(state):\n",
    "    if(len(ACTIONS[state])==0):\n",
    "        return 1\n",
    "    else:\n",
    "        return 0\n",
    "\n",
    "def MAX_VALUE(state,alpha,beta):\n",
    "    if(TERMINAL_TEST(state)):\n",
    "        return(UTILITY[state])\n",
    "    v=-10000\n",
    "    for a in ACTIONS[state]:\n",
    "        v=max(v,MIN_VALUE(a,alpha,beta))\n",
    "        if(v>=beta):\n",
    "            return(v)\n",
    "        alpha=max(alpha,v)\n",
    "    return v\n",
    "\n",
    "def MIN_VALUE(state,alpha,beta):\n",
    "    if(TERMINAL_TEST(state)):\n",
    "        return(UTILITY[state])\n",
    "    v=10000\n",
    "    for a in ACTIONS[state]:\n",
    "        v=min(v,MAX_VALUE(a,alpha,beta))\n",
    "        if(v<=alpha):\n",
    "            return(v)\n",
    "        beta=min(beta,v)\n",
    "    return v\n",
    "\n",
    "\n",
    "    \n",
    "state=int(input(\"Enter a state\"))\n",
    "print(\"Output state with maximum value is : \" + str(ALPHA_BETA_SEARCH(state)))\n",
    "     \n",
    "\n",
    "\n",
    "\n",
    "\n"
   ]
  },
  {
   "cell_type": "code",
   "execution_count": null,
   "metadata": {},
   "outputs": [],
   "source": []
  }
 ],
 "metadata": {
  "kernelspec": {
   "display_name": "Python 3",
   "language": "python",
   "name": "python3"
  },
  "language_info": {
   "codemirror_mode": {
    "name": "ipython",
    "version": 3
   },
   "file_extension": ".py",
   "mimetype": "text/x-python",
   "name": "python",
   "nbconvert_exporter": "python",
   "pygments_lexer": "ipython3",
   "version": "3.7.0"
  }
 },
 "nbformat": 4,
 "nbformat_minor": 2
}
