{
 "cells": [
  {
   "cell_type": "code",
   "execution_count": 9,
   "metadata": {},
   "outputs": [
    {
     "name": "stdout",
     "output_type": "stream",
     "text": [
      "Enter the number you would like to find- 400\n",
      "The node number which contains the value 400 is:- 3\n"
     ]
    }
   ],
   "source": [
    "#BREADTH FIRST SEARCH - AIMA4e\n",
    "\n",
    "def BREADTH_FIRST_SEARCH(goal):\n",
    "    successor={0:[1,2],# a dictionary where the key represents the parent node and the values represent the child nodes\n",
    "               1:[3,4],\n",
    "               2:[5,6],\n",
    "               3:[],\n",
    "               4:[],\n",
    "               5:[],\n",
    "               6:[]}\n",
    "    state={0:100,1:200,2:300,3:400,4:500,5:600,6:700}# a dictionary where the key represents the node number and the value the number the node holds\n",
    "    frontier=[0]# all the nodes which are present at the depth-level going to be searched\n",
    "    reached=[]# all the nodes which have been searched\n",
    "    solution=\"failure\"# the outcome which will occur if there is no match \n",
    "    \n",
    "    if(goal==state[frontier[0]]):# check if the value of the root matches the goal \n",
    "        return frontier[0]\n",
    "    \n",
    "    reached.append(frontier[0])# append the root node to reached\n",
    "    \n",
    "    while(len(frontier)>0):# do while frontier is not empty\n",
    "        parent=frontier[0]# extract the first node in frontier\n",
    "        frontier.remove(parent)# remove the parent node from frontier\n",
    "        for child in successor[parent]:# for each child of parent\n",
    "            s=state[child]\n",
    "            if(s==goal):# check if the value child holds matches the goal\n",
    "                return child# return the node position of goal\n",
    "            if(s not in reached):# check if s is not in reached\n",
    "                reached.append(s)# append s to reached\n",
    "                frontier.append(child)# append child to frontier\n",
    "    return solution# return the default outcome as there is no match\n",
    "\n",
    "\n",
    "n=(int(input(\"Enter the number you would like to find- \")))\n",
    "node=BREADTH_FIRST_SEARCH(n)\n",
    "print(\"The node number which contains the value \" + str(n) + \" is:- \" + str(node))\n",
    "\n",
    "        \n"
   ]
  },
  {
   "cell_type": "code",
   "execution_count": null,
   "metadata": {},
   "outputs": [],
   "source": []
  },
  {
   "cell_type": "code",
   "execution_count": null,
   "metadata": {},
   "outputs": [],
   "source": []
  }
 ],
 "metadata": {
  "kernelspec": {
   "display_name": "Python 3",
   "language": "python",
   "name": "python3"
  },
  "language_info": {
   "codemirror_mode": {
    "name": "ipython",
    "version": 3
   },
   "file_extension": ".py",
   "mimetype": "text/x-python",
   "name": "python",
   "nbconvert_exporter": "python",
   "pygments_lexer": "ipython3",
   "version": "3.7.0"
  }
 },
 "nbformat": 4,
 "nbformat_minor": 2
}
