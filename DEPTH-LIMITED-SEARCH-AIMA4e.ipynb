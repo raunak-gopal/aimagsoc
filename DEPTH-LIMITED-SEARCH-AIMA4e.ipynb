{
 "cells": [
  {
   "cell_type": "code",
   "execution_count": 3,
   "metadata": {},
   "outputs": [
    {
     "name": "stdout",
     "output_type": "stream",
     "text": [
      "Enter the number you would like to find- 1100\n",
      "Enter the maximum depth level- 3\n",
      "The node number which contains the value 1100 is:- 10\n"
     ]
    }
   ],
   "source": [
    "#DEPTH LIMITED SEARCH - AIMA4e\n",
    "\n",
    "def DEPTH_LIMITED_SEARCH(goal,l):\n",
    "    successor={0:[1,2],# a dictionary where the key represents the parent node and the values represent the child nodes\n",
    "               1:[3,4],\n",
    "               2:[5,6],\n",
    "               3:[7,8],\n",
    "               4:[9],\n",
    "               5:[10],\n",
    "               6:[],\n",
    "               7:[],\n",
    "               8:[],\n",
    "               9:[],\n",
    "               10:[]}\n",
    "    state={0:100,1:200,2:300,3:400,4:500,5:600,6:700,7:800,8:900,9:1000,10:1100}# a dictionary where the key represents the node number and the value the number the node holds\n",
    "    depth={0:0,1:1,2:1,3:2,4:2,5:2,6:2,7:3,8:3,9:3,10:3}# a dictionary which represents the depth-level of each node\n",
    "    frontier=[0]# all the nodes whose parents have been searched\n",
    "    reached=[]# all the nodes which have been searched\n",
    "    solution=\"failure\"# the outcome which will occur if there is no match \n",
    "    \n",
    "    if(goal==state[frontier[0]]):              # check if the value of the root matches the goal \n",
    "        return frontier[0]\n",
    "    \n",
    "    reached.append(frontier[0])                # append the root node to reached\n",
    "    \n",
    "    while(len(frontier)>0):                    # do while frontier is not empty\n",
    "        parent=frontier.pop(0)                 # extract then delete the first node in frontier\n",
    "        if(depth[parent]>l-1):                 # check if the depth of the parent node is greater than l-1\n",
    "            continue                           # if yes, skip the children of the current parent\n",
    "        else:\n",
    "            for child in successor[parent]:    # for each child of parent\n",
    "                if(state[child]==goal):        # check if the value child holds matches the goal\n",
    "                    return child               # return the node position of goal\n",
    "                frontier.append(child)         # append child to frontier\n",
    "    return solution                            # return the default outcome as there is no match\n",
    "\n",
    "n=int(input(\"Enter the number you would like to find- \"))\n",
    "max_depth=int(input(\"Enter the maximum depth level- \"))\n",
    "node=str(DEPTH_LIMITED_SEARCH(n,max_depth))\n",
    "print(\"The node number which contains the value \" + str(n) + \" is:- \" + str(node))\n",
    "\n",
    "\n",
    "        \n"
   ]
  },
  {
   "cell_type": "code",
   "execution_count": null,
   "metadata": {},
   "outputs": [],
   "source": []
  },
  {
   "cell_type": "code",
   "execution_count": null,
   "metadata": {},
   "outputs": [],
   "source": []
  }
 ],
 "metadata": {
  "kernelspec": {
   "display_name": "Python 3",
   "language": "python",
   "name": "python3"
  },
  "language_info": {
   "codemirror_mode": {
    "name": "ipython",
    "version": 3
   },
   "file_extension": ".py",
   "mimetype": "text/x-python",
   "name": "python",
   "nbconvert_exporter": "python",
   "pygments_lexer": "ipython3",
   "version": "3.7.0"
  }
 },
 "nbformat": 4,
 "nbformat_minor": 2
}
